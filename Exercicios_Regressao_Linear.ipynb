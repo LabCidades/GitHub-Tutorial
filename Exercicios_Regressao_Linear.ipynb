{
 "cells": [
  {
   "cell_type": "markdown",
   "metadata": {},
   "source": [
    "# Exercícios programa - Regressão linear"
   ]
  },
  {
   "cell_type": "markdown",
   "metadata": {},
   "source": [
    "Implemente o algoritmo gradiente descendente para regressão\n",
    "linear com múltiplas variáveis e aplique seu algoritmo com os\n",
    "conjuntos de dados: **dados1.csv**, **dados2.csv** e **dados3.csv**."
   ]
  },
  {
   "cell_type": "markdown",
   "metadata": {},
   "source": [
    "## Carregando bibliotecas principais"
   ]
  },
  {
   "cell_type": "markdown",
   "metadata": {},
   "source": [
    "Carregando bibliotecas de uso geral, como: **numpy**, **pandas**, **matplotlib**..."
   ]
  },
  {
   "cell_type": "code",
   "execution_count": 4,
   "metadata": {
    "ExecuteTime": {
     "end_time": "2018-08-01T21:19:14.147679Z",
     "start_time": "2018-08-01T21:19:13.797440Z"
    }
   },
   "outputs": [],
   "source": [
    "import numpy as np\n",
    "import pandas as pd\n",
    "import matplotlib.patches as mpatches\n",
    "import matplotlib.pyplot as plt\n",
    "from IPython.display import HTML "
   ]
  },
  {
   "cell_type": "markdown",
   "metadata": {},
   "source": [
    "## Carregando conjuntos de dados"
   ]
  },
  {
   "cell_type": "markdown",
   "metadata": {},
   "source": [
    "Carregando conjuntos **dados1.csv**, **dados2.csv** e **dados3.csv**."
   ]
  },
  {
   "cell_type": "code",
   "execution_count": 5,
   "metadata": {
    "ExecuteTime": {
     "end_time": "2018-08-01T21:19:16.285328Z",
     "start_time": "2018-08-01T21:19:16.216623Z"
    }
   },
   "outputs": [],
   "source": [
    "# carregando arquivos de dados\n",
    "dfdados1 = pd.read_csv('./dados1.csv', sep=',', header=None)\n",
    "dfdados2 = pd.read_csv('./dados2.csv', sep=',', header=None)\n",
    "dfdados3 = pd.read_csv('./dados3.csv', sep=',', header=None)\n",
    "\n",
    "# conjunto 1\n",
    "Xdados1 = dfdados1.values[:, 0:-1]\n",
    "Ydados1 = dfdados1.values[:, -1]\n",
    "mdados1 = np.size(Xdados1, 0)\n",
    "ndados1 = np.size(Xdados1, 1)\n",
    "\n",
    "# conjunto 2\n",
    "Xdados2 = dfdados2.values[:, 0:-1]\n",
    "Ydados2 = dfdados2.values[:, -1]\n",
    "mdados2 = np.size(Xdados2, 0)\n",
    "ndados2 = np.size(Xdados2, 1)\n",
    "\n",
    "# conjunto 3\n",
    "Xdados3 = dfdados3.values[:, 0:-1]\n",
    "Ydados3 = dfdados3.values[:, -1]\n",
    "mdados3 = np.size(Xdados3, 0)\n",
    "ndados3 = np.size(Xdados3, 1)\n",
    "\n",
    "# adicionando o bias nos conjuntos\n",
    "Xdados1 = np.c_[ np.ones(mdados1), Xdados1 ] \n",
    "Xdados2 = np.c_[ np.ones(mdados2), Xdados2 ] \n",
    "Xdados3 = np.c_[ np.ones(mdados3), Xdados3 ] "
   ]
  },
  {
   "cell_type": "markdown",
   "metadata": {},
   "source": [
    "## Exercicíos: Implemente as seguintes funções"
   ]
  },
  {
   "cell_type": "markdown",
   "metadata": {},
   "source": [
    "### 1. Implementar a função normalização (z-scores).\n",
    "$$\n",
    "X'^{(i)}_{j} = \\frac{X^{i}_j - \\mu(X_{j})}{\\sigma(X_j)}\n",
    "$$"
   ]
  },
  {
   "cell_type": "code",
   "execution_count": 1,
   "metadata": {
    "ExecuteTime": {
     "end_time": "2018-08-01T21:20:03.562284Z",
     "start_time": "2018-08-01T21:20:03.555888Z"
    }
   },
   "outputs": [],
   "source": [
    "def zscores(X, mean=None, std=None, bias=False):    \n",
    "    \n",
    "    #adicione sua implementação\n",
    "   \n",
    "\n",
    "    return (X, mean, std)\n",
    "\n"
   ]
  },
  {
   "cell_type": "markdown",
   "metadata": {},
   "source": [
    "### 2. Implementar a função de custo.\n",
    " - Hipótese \n",
    "$$h_{\\theta}(x) = \\theta^{T} x = \\sum_{i=1}^{n}\\theta_i x_i$$\n",
    " - Custo\n",
    "$$J(\\theta) = \\frac{1}{2m}\\sum_{i=1}^{m}( h_\\theta(x^{(i)}) - y^{(i)} )^2$$"
   ]
  },
  {
   "cell_type": "code",
   "execution_count": 7,
   "metadata": {},
   "outputs": [],
   "source": [
    "# hipótese \n",
    "# note que, X deve ter dimensão m x (n+1) e thetas dimensão (n+1) x 1\n",
    "def hipotese(X, thetas):\n",
    "    h = 0\n",
    "    \n",
    "    #adicione sua implementação\n",
    "    \n",
    "    return h\n",
    "\n",
    "\n",
    "# função de custo\n",
    "def funcaoCusto(X, Y, m, thetas):\n",
    "    custo = 0\n",
    "   \n",
    "    #adicione sua implementação\n",
    "    \n",
    "    \n",
    "    return custo"
   ]
  },
  {
   "cell_type": "markdown",
   "metadata": {},
   "source": [
    "### 3. Implementar a função derivada da função de custo.\n",
    " - Derivada\n",
    "$$\\partial J(\\theta) = \\frac{1}{m}\\sum_{i=1}^{m}( h_\\theta(x^{(i)}) - y^{(i)} ) x^{(i)}_j$$"
   ]
  },
  {
   "cell_type": "code",
   "execution_count": 9,
   "metadata": {
    "ExecuteTime": {
     "end_time": "2018-08-01T21:19:23.759964Z",
     "start_time": "2018-08-01T21:19:23.740162Z"
    },
    "scrolled": true
   },
   "outputs": [],
   "source": [
    "# derivada da função de custo\n",
    "def derivadaDaFuncaoCusto(X, Y, m, thetas):\n",
    "    derivada = 0   \n",
    "    \n",
    "    #adicione sua implementação\n",
    "    \n",
    "    \n",
    "    return derivada"
   ]
  },
  {
   "cell_type": "markdown",
   "metadata": {},
   "source": [
    "### 4. Implementar a função predição."
   ]
  },
  {
   "cell_type": "code",
   "execution_count": 6,
   "metadata": {
    "ExecuteTime": {
     "end_time": "2018-08-01T21:19:26.709927Z",
     "start_time": "2018-08-01T21:19:26.706783Z"
    }
   },
   "outputs": [],
   "source": [
    "# predição\n",
    "def predicao(X, thetas):\n",
    "    pred = 0\n",
    "    \n",
    "    #adicione sua implementação\n",
    "    \n",
    "    \n",
    "    return pred"
   ]
  },
  {
   "cell_type": "markdown",
   "metadata": {},
   "source": [
    "## Gradiente descendente"
   ]
  },
  {
   "cell_type": "code",
   "execution_count": 1,
   "metadata": {},
   "outputs": [],
   "source": [
    "# gradiente descendente\n",
    "def gradienteDescendente(X, Y, m, numEpocas, alpha):\n",
    "    n = np.size(X, 1)    \n",
    "    thetas = np.random.rand(n)\n",
    "    J_historico = []\n",
    "    \n",
    "    for iteracao in range(numEpocas):        \n",
    "        thetas = thetas - alpha * derivadaDaFuncaoCusto(X, Y, m, thetas)\n",
    "        J_historico = J_historico + [funcaoCusto(X, Y, m, thetas)]\n",
    "    \n",
    "    return [thetas, J_historico]"
   ]
  },
  {
   "cell_type": "code",
   "execution_count": 2,
   "metadata": {
    "ExecuteTime": {
     "end_time": "2018-08-01T21:21:13.448065Z",
     "start_time": "2018-08-01T21:21:13.429044Z"
    }
   },
   "outputs": [],
   "source": [
    "# outras funções úteis para as tabelas\n",
    "def hover(hover_color=\"#ffff99\"):\n",
    "    return dict(selector=\"tr:hover\",\n",
    "                props=[(\"background-color\", \"%s\" % hover_color)])\n",
    "\n",
    "def multi_table(table_list):\n",
    "    return HTML(\n",
    "        '<table style=\"margin: 0 auto;\"><tr style=\"vertical-align:top;background-color:white;\">' + \n",
    "        ''.join(['<td style=\"vertical-align:top;\">' + table._repr_html_() + '</td>' for table in table_list]) +\n",
    "        '</tr></table>'\n",
    "    )\n",
    "\n",
    "styles = [\n",
    "    hover(),\n",
    "    dict(selector=\"td\", props=[(\"font-size\", \"120%\"),\n",
    "                               (\"text-align\", \"center\")]),\n",
    "    dict(selector=\"th\", props=[(\"font-size\", \"120%\"),\n",
    "                               (\"text-align\", \"left\")]),\n",
    "    dict(selector=\"caption\", props=[(\"caption-side\", \"bottom\")])\n",
    "]"
   ]
  },
  {
   "cell_type": "markdown",
   "metadata": {},
   "source": [
    "# 5. Encontre os melhores parâmetros para o Gradiente Descendente para cada conjunto de dados"
   ]
  },
  {
   "cell_type": "code",
   "execution_count": 3,
   "metadata": {
    "ExecuteTime": {
     "end_time": "2018-08-01T21:24:24.027740Z",
     "start_time": "2018-08-01T21:24:23.552516Z"
    }
   },
   "outputs": [],
   "source": [
    "def train(X, Y, numEpocas, alpha):\n",
    "    \n",
    "    m = np.size(Xdados, 0)\n",
    "\n",
    "    \"\"\" Normalizando os dados via zscores \"\"\"\n",
    "    # observação: não normalizar o bias\n",
    "    Xnorm, mean_, std_ = zscores(X, bias=True)\n",
    "\n",
    "    \"\"\" Escolhendo parâmetros \"\"\"\n",
    "    (thetas, J_historico) = gradienteDescendente(Xnorm, Y, m, numEpocas, alpha)\n",
    "    MSE = J_historico[-1]\n",
    "\n",
    "    \"\"\" Valor de custo acumulado \"\"\"\n",
    "    plt.figure(figsize=(12,10))\n",
    "    plt.plot(range(numEpocas), J_historico, color='red', label='Funcao de custo J')\n",
    "    plt.xlabel(r'Número de Épocas', fontsize=18)\n",
    "    plt.ylabel(r'Custo', fontsize=18)\n",
    "    plt.title(r'Evolução da função de custo: $J(\\theta)=\\frac{1}{2m}\\sum_{i=1}^m(h_\\theta(x^{(i)}) - y^{(i)})^2$'+'\\n', \n",
    "              fontsize=18)\n",
    "    plt.legend()\n",
    "    HTML(plt.show())\n",
    "\n",
    "    \"\"\" Tabelas \"\"\"\n",
    "    identifiers = range(np.size(thetas))\n",
    "    tablethetas = pd.DataFrame({r'Vetor $\\theta$': np.char.mod(r'$\\theta_{%d}$', identifiers),\n",
    "                                'Valor do parâmetro':thetas})\n",
    "\n",
    "    tablethetas = tablethetas[[r'Vetor $\\theta$', 'Valor do parâmetro']]\n",
    "    tablethetas = (tablethetas.style.set_table_styles(styles).set_caption(\"Passe o mouse.\"))\n",
    "\n",
    "    tableparams = pd.DataFrame({'Valores':[numEpocas,\n",
    "                                           alpha,\n",
    "                                          str(MSE)]}, \n",
    "                               index=['Número de épocas', \n",
    "                                      'Taxa de aprendizagem',\n",
    "                                     'MSE:'])\n",
    "\n",
    "    tableparams = (tableparams.style.set_table_styles(styles).set_caption(\"Passe o mouse.\"))\n",
    "    return multi_table([tablethetas, tableparams])"
   ]
  },
  {
   "cell_type": "markdown",
   "metadata": {},
   "source": [
    "## - Resultados para o conjunto **dados1.csv**."
   ]
  },
  {
   "cell_type": "code",
   "execution_count": 4,
   "metadata": {},
   "outputs": [],
   "source": [
    "alpha = 0.001\n",
    "numEpocas = 5000\n",
    "\n",
    "#train(Xdados1, Ydados1, numEpocas, alpha)  \n",
    " "
   ]
  }
 ],
 "metadata": {
  "kernelspec": {
   "display_name": "Python 3",
   "language": "python",
   "name": "python3"
  },
  "language_info": {
   "codemirror_mode": {
    "name": "ipython",
    "version": 3
   },
   "file_extension": ".py",
   "mimetype": "text/x-python",
   "name": "python",
   "nbconvert_exporter": "python",
   "pygments_lexer": "ipython3",
   "version": "3.6.8"
  },
  "notify_time": "10",
  "varInspector": {
   "cols": {
    "lenName": 16,
    "lenType": 16,
    "lenVar": 40
   },
   "kernels_config": {
    "python": {
     "delete_cmd_postfix": "",
     "delete_cmd_prefix": "del ",
     "library": "var_list.py",
     "varRefreshCmd": "print(var_dic_list())"
    },
    "r": {
     "delete_cmd_postfix": ") ",
     "delete_cmd_prefix": "rm(",
     "library": "var_list.r",
     "varRefreshCmd": "cat(var_dic_list()) "
    }
   },
   "types_to_exclude": [
    "module",
    "function",
    "builtin_function_or_method",
    "instance",
    "_Feature"
   ],
   "window_display": false
  }
 },
 "nbformat": 4,
 "nbformat_minor": 2
}
