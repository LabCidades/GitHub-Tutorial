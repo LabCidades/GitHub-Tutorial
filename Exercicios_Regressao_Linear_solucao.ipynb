{
 "cells": [
  {
   "cell_type": "markdown",
   "metadata": {},
   "source": [
    "# Exercícios programa - Regressão linear"
   ]
  },
  {
   "cell_type": "markdown",
   "metadata": {},
   "source": [
    "Implemente o algoritmo gradiente descendente para regressão\n",
    "linear com múltiplas variáveis e aplique seu algoritmo com os\n",
    "conjuntos de dados: **dados1.csv**, **dados2.csv** e **dados3.csv**."
   ]
  },
  {
   "cell_type": "markdown",
   "metadata": {},
   "source": [
    "## Carregando bibliotecas principais"
   ]
  },
  {
   "cell_type": "markdown",
   "metadata": {},
   "source": [
    "Carregando bibliotecas de uso geral, como: **numpy**, **pandas**, **matplotlib**..."
   ]
  },
  {
   "cell_type": "code",
   "execution_count": 1,
   "metadata": {
    "ExecuteTime": {
     "end_time": "2018-08-01T21:19:14.147679Z",
     "start_time": "2018-08-01T21:19:13.797440Z"
    }
   },
   "outputs": [],
   "source": [
    "import numpy as np\n",
    "import pandas as pd\n",
    "import matplotlib.patches as mpatches\n",
    "import matplotlib.pyplot as plt\n",
    "from IPython.display import HTML"
   ]
  },
  {
   "cell_type": "markdown",
   "metadata": {},
   "source": [
    "## Carregando conjuntos de dados"
   ]
  },
  {
   "cell_type": "markdown",
   "metadata": {},
   "source": [
    "Carregando conjuntos **dados1.csv**, **dados2.csv** e **dados3.csv**."
   ]
  },
  {
   "cell_type": "code",
   "execution_count": 2,
   "metadata": {
    "ExecuteTime": {
     "end_time": "2018-08-01T21:19:16.285328Z",
     "start_time": "2018-08-01T21:19:16.216623Z"
    }
   },
   "outputs": [],
   "source": [
    "# carregando arquivos de dados\n",
    "dfdados1 = pd.read_csv('./dados1.csv', sep=',', header=None)\n",
    "dfdados2 = pd.read_csv('./dados2.csv', sep=',', header=None)\n",
    "dfdados3 = pd.read_csv('./dados3.csv', sep=',', header=None)\n",
    "\n",
    "# conjunto 1\n",
    "Xdados1 = dfdados1.values[:, 0:-1]\n",
    "Ydados1 = dfdados1.values[:, -1]\n",
    "mdados1 = np.size(Xdados1, 0)\n",
    "ndados1 = np.size(Xdados1, 1)\n",
    "\n",
    "# conjunto 2\n",
    "Xdados2 = dfdados2.values[:, 0:-1]\n",
    "Ydados2 = dfdados2.values[:, -1]\n",
    "mdados2 = np.size(Xdados2, 0)\n",
    "ndados2 = np.size(Xdados2, 1)\n",
    "\n",
    "# conjunto 3\n",
    "Xdados3 = dfdados3.values[:, 0:-1]\n",
    "Ydados3 = dfdados3.values[:, -1]\n",
    "mdados3 = np.size(Xdados3, 0)\n",
    "ndados3 = np.size(Xdados3, 1)\n",
    "\n",
    "# adicionando o bias nos conjuntos\n",
    "Xdados1 = np.c_[ np.ones(mdados1), Xdados1 ] \n",
    "Xdados2 = np.c_[ np.ones(mdados2), Xdados2 ] \n",
    "Xdados3 = np.c_[ np.ones(mdados3), Xdados3 ] "
   ]
  },
  {
   "cell_type": "markdown",
   "metadata": {},
   "source": [
    "## Exercicíos: Implemente as seguintes funções"
   ]
  },
  {
   "cell_type": "markdown",
   "metadata": {},
   "source": [
    "### 1. Implementar a função normalização (z-scores).\n",
    "$$\n",
    "X'^{(i)}_{j} = \\frac{X^{i}_j - \\mu(X_{j})}{\\sigma(X_j)}\n",
    "$$"
   ]
  },
  {
   "cell_type": "code",
   "execution_count": 3,
   "metadata": {
    "ExecuteTime": {
     "end_time": "2018-08-01T21:20:03.562284Z",
     "start_time": "2018-08-01T21:20:03.555888Z"
    }
   },
   "outputs": [
    {
     "name": "stdout",
     "output_type": "stream",
     "text": [
      "[[ 0.13141542 -0.22609337]\n",
      " [-0.5096407  -0.22609337]\n",
      " [ 0.5079087  -0.22609337]]\n"
     ]
    }
   ],
   "source": [
    "def zscores(X, mean=None, std=None, bias=False):    \n",
    "    \n",
    "    #adicione sua implementação\n",
    "    if bias == True:\n",
    "        init = 1\n",
    "    else:\n",
    "        init = 0        \n",
    "    if mean is None:\n",
    "        mean = np.mean(X[:, init:], axis=0) \n",
    "    if std is None:\n",
    "        std = np.std(X[:, init:], axis=0) \n",
    "    X[:, init:]=(X[:, init:]-mean)/(std)\n",
    "    \n",
    "    return (X, mean, std)\n",
    "\n",
    "\n",
    "# Testando sua função zsocre\n",
    "Xdados2T = np.copy(Xdados2)\n",
    "Xdados2T, mean_, std_ = zscores(Xdados2T, bias=True)\n",
    "print(Xdados2T[0:3, 1:])"
   ]
  },
  {
   "cell_type": "markdown",
   "metadata": {},
   "source": [
    "### 2. Implementar a função de custo.\n",
    " - Hipótese \n",
    "$$h_{\\theta}(x) = \\theta^{T} x = \\sum_{i=1}^{n}\\theta_i x_i$$\n",
    " - Custo\n",
    "$$J(\\theta) = \\frac{1}{2m}\\sum_{i=1}^{m}( h_\\theta(x^{(i)}) - y^{(i)} )^2$$"
   ]
  },
  {
   "cell_type": "code",
   "execution_count": 4,
   "metadata": {},
   "outputs": [],
   "source": [
    "# hipótese (já vetorizada)\n",
    "# note que, X deve ter dimensão m x (n+1) e thetas dimensão (n+1) x 1\n",
    "def hipotese(X, thetas):\n",
    "    return X.dot(thetas)\n",
    "\n",
    "# função de custo\n",
    "def funcaoCusto(X, Y, m, thetas):\n",
    "    custo = 0\n",
    "    #adicione sua implementação\n",
    "    h = hipotese(X, thetas)\n",
    "    custo = (h-Y).T.dot(h-Y) / (2*m)\n",
    "    \n",
    "    return custo"
   ]
  },
  {
   "cell_type": "markdown",
   "metadata": {},
   "source": [
    "Seja $ X_{\\text{dados1}} $ normalizado pelo método $\\text{zscores}$. Considere $ \\theta=[1.0647, 0.1106] $, assim temos que: $ \\text{funcaoCusto}(X_{\\text{dados1}}, Y_{\\text{dados1}}, \\theta)=0.000983 $."
   ]
  },
  {
   "cell_type": "code",
   "execution_count": 5,
   "metadata": {
    "ExecuteTime": {
     "end_time": "2018-08-01T21:20:35.105504Z",
     "start_time": "2018-08-01T21:20:35.087390Z"
    }
   },
   "outputs": [
    {
     "name": "stdout",
     "output_type": "stream",
     "text": [
      "Custo = 0.0009836391913337363\n"
     ]
    }
   ],
   "source": [
    "# Testando sua função custo\n",
    "Xdados1T = np.copy(Xdados1)\n",
    "Xdados1T, mean_, std_ = zscores(Xdados1T, bias=True)\n",
    "thetasTeste = np.array([1.0647, 0.1106])\n",
    "c = funcaoCusto(Xdados1T, Ydados1, mdados1, thetasTeste)\n",
    "print(\"Custo = \"+format(c))"
   ]
  },
  {
   "cell_type": "markdown",
   "metadata": {},
   "source": [
    "### 3. Implementar a função derivada da função de custo.\n",
    " - Derivada\n",
    "$$\\partial J(\\theta) = \\frac{1}{m}\\sum_{i=1}^{m}( h_\\theta(x^{(i)}) - y^{(i)} ) x^{(i)}_j$$"
   ]
  },
  {
   "cell_type": "code",
   "execution_count": 6,
   "metadata": {
    "ExecuteTime": {
     "end_time": "2018-08-01T21:19:23.759964Z",
     "start_time": "2018-08-01T21:19:23.740162Z"
    },
    "scrolled": true
   },
   "outputs": [],
   "source": [
    "# derivada da função de custo\n",
    "def derivadaDaFuncaoCusto(X, Y, m, thetas):\n",
    "    derivada = 0   \n",
    "    #adicione sua implementação\n",
    "    h = hipotese(X, thetas)    \n",
    "    derivada = (h-Y).dot(X)/m\n",
    "\n",
    "    return derivada"
   ]
  },
  {
   "cell_type": "markdown",
   "metadata": {},
   "source": [
    "Seja $ X_{\\text{dados1}} $ normalizado pelo método $\\text{zscores}$. Considere $ \\theta=[0.827225, 0.085157] $, assim temos que: $ \\text{derivadaDaFuncaoCusto}(X_{\\text{dados1}}, Y_{\\text{dados1}}, \\theta)=[-0.2375, -0.0249] $."
   ]
  },
  {
   "cell_type": "code",
   "execution_count": 7,
   "metadata": {
    "ExecuteTime": {
     "end_time": "2018-08-01T21:20:53.481410Z",
     "start_time": "2018-08-01T21:20:53.470984Z"
    }
   },
   "outputs": [
    {
     "name": "stdout",
     "output_type": "stream",
     "text": [
      "Derivada = [-0.237455   -0.02430041]\n"
     ]
    }
   ],
   "source": [
    "Xdados1T = np.copy(Xdados1)\n",
    "Xdados1T, mean_, std_ = zscores(Xdados1T, bias=True)\n",
    "thetasTeste = np.array([0.827225, 0.085157])\n",
    "d = derivadaDaFuncaoCusto(Xdados1T, Ydados1, mdados1, thetasTeste)\n",
    "print(\"Derivada = \"+format(d))"
   ]
  },
  {
   "cell_type": "markdown",
   "metadata": {},
   "source": [
    "### 4. Implementar a função predição."
   ]
  },
  {
   "cell_type": "code",
   "execution_count": 8,
   "metadata": {
    "ExecuteTime": {
     "end_time": "2018-08-01T21:19:26.709927Z",
     "start_time": "2018-08-01T21:19:26.706783Z"
    }
   },
   "outputs": [],
   "source": [
    "# predição\n",
    "def predicao(X, thetas):\n",
    "    pred = 0\n",
    "    #adicione sua implementação\n",
    "    pred = hipotese(X, thetas)\n",
    "    \n",
    "    return pred"
   ]
  },
  {
   "cell_type": "markdown",
   "metadata": {},
   "source": [
    "Seja $ x=[1, 3.5] $. Considere $ \\theta=[0.827225, 0.085157] $, assim temos que: $ \\text{predicao}(x, \\theta)=1.1252745 $."
   ]
  },
  {
   "cell_type": "code",
   "execution_count": 9,
   "metadata": {
    "ExecuteTime": {
     "end_time": "2018-08-01T21:21:10.807415Z",
     "start_time": "2018-08-01T21:21:10.799196Z"
    }
   },
   "outputs": [
    {
     "name": "stdout",
     "output_type": "stream",
     "text": [
      "Predição = 1.1252745\n"
     ]
    }
   ],
   "source": [
    "thetasTeste = np.array([0.827225, 0.085157])\n",
    "x = np.array([1, 3.5])\n",
    "p = predicao(x, thetasTeste)\n",
    "print(\"Predição = \" + format(p))"
   ]
  },
  {
   "cell_type": "markdown",
   "metadata": {},
   "source": [
    "## Gradiente descendente"
   ]
  },
  {
   "cell_type": "code",
   "execution_count": 10,
   "metadata": {},
   "outputs": [],
   "source": [
    "# gradiente descendente\n",
    "def gradienteDescendente(X, Y, m, numEpocas, alpha):\n",
    "    n = np.size(X, 1)    \n",
    "    thetas = np.random.rand(n)\n",
    "    J_historico = []\n",
    "    \n",
    "    for iteracao in range(numEpocas):        \n",
    "        thetas = thetas - alpha * derivadaDaFuncaoCusto(X, Y, m, thetas)\n",
    "        J_historico = J_historico + [funcaoCusto(X, Y, m, thetas)]\n",
    "    \n",
    "    return [thetas, J_historico]"
   ]
  },
  {
   "cell_type": "code",
   "execution_count": 11,
   "metadata": {
    "ExecuteTime": {
     "end_time": "2018-08-01T21:21:13.448065Z",
     "start_time": "2018-08-01T21:21:13.429044Z"
    }
   },
   "outputs": [],
   "source": [
    "# outras funções úteis para as tabelas\n",
    "def hover(hover_color=\"#ffff99\"):\n",
    "    return dict(selector=\"tr:hover\",\n",
    "                props=[(\"background-color\", \"%s\" % hover_color)])\n",
    "\n",
    "def multi_table(table_list):\n",
    "    return HTML(\n",
    "        '<table style=\"margin: 0 auto;\"><tr style=\"vertical-align:top;background-color:white;\">' + \n",
    "        ''.join(['<td style=\"vertical-align:top;\">' + table._repr_html_() + '</td>' for table in table_list]) +\n",
    "        '</tr></table>'\n",
    "    )\n",
    "\n",
    "styles = [\n",
    "    hover(),\n",
    "    dict(selector=\"td\", props=[(\"font-size\", \"120%\"),\n",
    "                               (\"text-align\", \"center\")]),\n",
    "    dict(selector=\"th\", props=[(\"font-size\", \"120%\"),\n",
    "                               (\"text-align\", \"left\")]),\n",
    "    dict(selector=\"caption\", props=[(\"caption-side\", \"bottom\")])\n",
    "]"
   ]
  },
  {
   "cell_type": "markdown",
   "metadata": {},
   "source": [
    "# 5. Encontre os melhores parâmetros para o Gradiente Descendente para cada conjunto de dados"
   ]
  },
  {
   "cell_type": "code",
   "execution_count": 14,
   "metadata": {
    "ExecuteTime": {
     "end_time": "2018-08-01T21:24:24.027740Z",
     "start_time": "2018-08-01T21:24:23.552516Z"
    }
   },
   "outputs": [],
   "source": [
    "def train(X, Y, numEpocas, alpha):\n",
    "    \n",
    "    m = np.size(X, 0)\n",
    "\n",
    "    \"\"\" Normalizando os dados via zscores \"\"\"\n",
    "    # observação: não normalizar o bias\n",
    "    Xnorm, mean_, std_ = zscores(X, bias=True)\n",
    "\n",
    "    \"\"\" Escolhendo parâmetros \"\"\"\n",
    "    (thetas, J_historico) = gradienteDescendente(Xnorm, Y, m, numEpocas, alpha)\n",
    "    MSE = J_historico[-1]\n",
    "\n",
    "    \"\"\" Valor de custo acumulado \"\"\"\n",
    "    plt.figure(figsize=(12,10))\n",
    "    plt.plot(range(numEpocas), J_historico, color='red', label='Funcao de custo J')\n",
    "    plt.xlabel(r'Número de Épocas', fontsize=18)\n",
    "    plt.ylabel(r'Custo', fontsize=18)\n",
    "    plt.title(r'Evolução da função de custo: $J(\\theta)=\\frac{1}{2m}\\sum_{i=1}^m(h_\\theta(x^{(i)}) - y^{(i)})^2$'+'\\n', \n",
    "              fontsize=18)\n",
    "    plt.legend()\n",
    "    HTML(plt.show())\n",
    "\n",
    "    \"\"\" Tabelas \"\"\"\n",
    "    identifiers = range(np.size(thetas))\n",
    "    tablethetas = pd.DataFrame({r'Vetor $\\theta$': np.char.mod(r'$\\theta_{%d}$', identifiers),\n",
    "                                'Valor do parâmetro':thetas})\n",
    "\n",
    "    tablethetas = tablethetas[[r'Vetor $\\theta$', 'Valor do parâmetro']]\n",
    "    tablethetas = (tablethetas.style.set_table_styles(styles).set_caption(\"Passe o mouse.\"))\n",
    "\n",
    "    tableparams = pd.DataFrame({'Valores':[numEpocas,\n",
    "                                           alpha,\n",
    "                                          str(MSE)]}, \n",
    "                               index=['Número de épocas', \n",
    "                                      'Taxa de aprendizagem',\n",
    "                                     'MSE:'])\n",
    "\n",
    "    tableparams = (tableparams.style.set_table_styles(styles).set_caption(\"Passe o mouse.\"))\n",
    "    return multi_table([tablethetas, tableparams])"
   ]
  },
  {
   "cell_type": "markdown",
   "metadata": {},
   "source": [
    "## - Resultados para o conjunto **dados1.csv**."
   ]
  },
  {
   "cell_type": "code",
   "execution_count": 15,
   "metadata": {},
   "outputs": [
    {
     "data": {
      "image/png": "[encoded data removed]",
      "text/plain": [
       "<Figure size 864x720 with 1 Axes>"
      ]
     },
     "metadata": {
      "needs_background": "light"
     },
     "output_type": "display_data"
    },
    {
     "data": {
      "text/html": [
       "<table style=\"margin: 0 auto;\"><tr style=\"vertical-align:top;background-color:white;\"><td style=\"vertical-align:top;\"><style  type=\"text/css\" >\n",
       "    #T_a719f84a_7247_11eb_8f84_ac87a31e9ef0 tr:hover {\n",
       "          background-color: #ffff99;\n",
       "    }    #T_a719f84a_7247_11eb_8f84_ac87a31e9ef0 td {\n",
       "          font-size: 120%;\n",
       "          text-align: center;\n",
       "    }    #T_a719f84a_7247_11eb_8f84_ac87a31e9ef0 th {\n",
       "          font-size: 120%;\n",
       "          text-align: left;\n",
       "    }    #T_a719f84a_7247_11eb_8f84_ac87a31e9ef0 caption {\n",
       "          caption-side: bottom;\n",
       "    }</style><table id=\"T_a719f84a_7247_11eb_8f84_ac87a31e9ef0\" ><caption>Passe o mouse.</caption><thead>    <tr>        <th class=\"blank level0\" ></th>        <th class=\"col_heading level0 col0\" >Vetor $\\theta$</th>        <th class=\"col_heading level0 col1\" >Valor do parâmetro</th>    </tr></thead><tbody>\n",
       "                <tr>\n",
       "                        <th id=\"T_a719f84a_7247_11eb_8f84_ac87a31e9ef0level0_row0\" class=\"row_heading level0 row0\" >0</th>\n",
       "                        <td id=\"T_a719f84a_7247_11eb_8f84_ac87a31e9ef0row0_col0\" class=\"data row0 col0\" >$\\theta_{0}$</td>\n",
       "                        <td id=\"T_a719f84a_7247_11eb_8f84_ac87a31e9ef0row0_col1\" class=\"data row0 col1\" >1.05836</td>\n",
       "            </tr>\n",
       "            <tr>\n",
       "                        <th id=\"T_a719f84a_7247_11eb_8f84_ac87a31e9ef0level0_row1\" class=\"row_heading level0 row1\" >1</th>\n",
       "                        <td id=\"T_a719f84a_7247_11eb_8f84_ac87a31e9ef0row1_col0\" class=\"data row1 col0\" >$\\theta_{1}$</td>\n",
       "                        <td id=\"T_a719f84a_7247_11eb_8f84_ac87a31e9ef0row1_col1\" class=\"data row1 col1\" >0.110607</td>\n",
       "            </tr>\n",
       "    </tbody></table></td><td style=\"vertical-align:top;\"><style  type=\"text/css\" >\n",
       "    #T_a71c0b80_7247_11eb_9e8c_ac87a31e9ef0 tr:hover {\n",
       "          background-color: #ffff99;\n",
       "    }    #T_a71c0b80_7247_11eb_9e8c_ac87a31e9ef0 td {\n",
       "          font-size: 120%;\n",
       "          text-align: center;\n",
       "    }    #T_a71c0b80_7247_11eb_9e8c_ac87a31e9ef0 th {\n",
       "          font-size: 120%;\n",
       "          text-align: left;\n",
       "    }    #T_a71c0b80_7247_11eb_9e8c_ac87a31e9ef0 caption {\n",
       "          caption-side: bottom;\n",
       "    }</style><table id=\"T_a71c0b80_7247_11eb_9e8c_ac87a31e9ef0\" ><caption>Passe o mouse.</caption><thead>    <tr>        <th class=\"blank level0\" ></th>        <th class=\"col_heading level0 col0\" >Valores</th>    </tr></thead><tbody>\n",
       "                <tr>\n",
       "                        <th id=\"T_a71c0b80_7247_11eb_9e8c_ac87a31e9ef0level0_row0\" class=\"row_heading level0 row0\" >Número de épocas</th>\n",
       "                        <td id=\"T_a71c0b80_7247_11eb_9e8c_ac87a31e9ef0row0_col0\" class=\"data row0 col0\" >5000</td>\n",
       "            </tr>\n",
       "            <tr>\n",
       "                        <th id=\"T_a71c0b80_7247_11eb_9e8c_ac87a31e9ef0level0_row1\" class=\"row_heading level0 row1\" >Taxa de aprendizagem</th>\n",
       "                        <td id=\"T_a71c0b80_7247_11eb_9e8c_ac87a31e9ef0row1_col0\" class=\"data row1 col0\" >0.001</td>\n",
       "            </tr>\n",
       "            <tr>\n",
       "                        <th id=\"T_a71c0b80_7247_11eb_9e8c_ac87a31e9ef0level0_row2\" class=\"row_heading level0 row2\" >MSE:</th>\n",
       "                        <td id=\"T_a71c0b80_7247_11eb_9e8c_ac87a31e9ef0row2_col0\" class=\"data row2 col0\" >0.001003642540781009</td>\n",
       "            </tr>\n",
       "    </tbody></table></td></tr></table>"
      ],
      "text/plain": [
       "<IPython.core.display.HTML object>"
      ]
     },
     "execution_count": 15,
     "metadata": {},
     "output_type": "execute_result"
    }
   ],
   "source": [
    "alpha = 0.001\n",
    "numEpocas = 5000\n",
    "\n",
    "train(Xdados1, Ydados1, numEpocas, alpha)\n"
   ]
  },
  {
   "cell_type": "markdown",
   "metadata": {},
   "source": [
    "## - Resultados para o conjunto **dados2.csv**."
   ]
  },
  {
   "cell_type": "code",
   "execution_count": null,
   "metadata": {},
   "outputs": [],
   "source": [
    "alpha = 0.005\n",
    "numEpocas = 1000\n",
    "\n",
    "train(Xdados2, Ydados2, numEpocas, alpha)"
   ]
  },
  {
   "cell_type": "markdown",
   "metadata": {},
   "source": [
    "## - Resultados para o conjunto **dados3.csv**."
   ]
  },
  {
   "cell_type": "code",
   "execution_count": null,
   "metadata": {},
   "outputs": [],
   "source": [
    "alpha = 0.01\n",
    "numEpocas = 500\n",
    "\n",
    "train(Xdados3, Ydados3, numEpocas, alpha)"
   ]
  },
  {
   "cell_type": "code",
   "execution_count": null,
   "metadata": {},
   "outputs": [],
   "source": []
  }
 ],
 "metadata": {
  "kernelspec": {
   "display_name": "Python 3",
   "language": "python",
   "name": "python3"
  },
  "language_info": {
   "codemirror_mode": {
    "name": "ipython",
    "version": 3
   },
   "file_extension": ".py",
   "mimetype": "text/x-python",
   "name": "python",
   "nbconvert_exporter": "python",
   "pygments_lexer": "ipython3",
   "version": "3.6.8"
  },
  "notify_time": "10",
  "varInspector": {
   "cols": {
    "lenName": 16,
    "lenType": 16,
    "lenVar": 40
   },
   "kernels_config": {
    "python": {
     "delete_cmd_postfix": "",
     "delete_cmd_prefix": "del ",
     "library": "var_list.py",
     "varRefreshCmd": "print(var_dic_list())"
    },
    "r": {
     "delete_cmd_postfix": ") ",
     "delete_cmd_prefix": "rm(",
     "library": "var_list.r",
     "varRefreshCmd": "cat(var_dic_list()) "
    }
   },
   "types_to_exclude": [
    "module",
    "function",
    "builtin_function_or_method",
    "instance",
    "_Feature"
   ],
   "window_display": false
  }
 },
 "nbformat": 4,
 "nbformat_minor": 2
}
